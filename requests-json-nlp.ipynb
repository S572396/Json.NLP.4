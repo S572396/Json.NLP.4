{
 "cells": [
  {
   "cell_type": "markdown",
   "metadata": {},
   "source": [
    "# Web Mining and Applied NLP (44-620)\n",
    "\n",
    "## Requests, JSON, and NLP\n",
    "\n",
    "### Student Name: SANDRA RUIZ\n",
    "\n",
    "### Link to My Repo: \n",
    "\n",
    "Perform the tasks described in the Markdown cells below.  When you have completed the assignment make sure your code cells have all been run (and have output beneath them) and ensure you have committed and pushed ALL of your changes to your assignment repository.\n",
    "\n",
    "Make sure you have [installed spaCy and its pipeline](https://spacy.io/usage#quickstart) and [spaCyTextBlob](https://spacy.io/universe/project/spacy-textblob)\n",
    "\n",
    "Every question that requires you to write code will have a code cell underneath it; you may either write your entire solution in that cell or write it in a python file (`.py`), then import and run the appropriate code to answer the question.\n",
    "\n",
    "This assignment requires that you write additional files (either JSON or pickle files); make sure to submit those files in your repository as well."
   ]
  },
  {
   "cell_type": "code",
   "execution_count": 26,
   "metadata": {},
   "outputs": [
    {
     "name": "stdout",
     "output_type": "stream",
     "text": [
      "All prereqs installed.\n",
      "Package            Version\n",
      "------------------ ------------\n",
      "annotated-types    0.7.0\n",
      "asttokens          2.4.1\n",
      "blis               1.0.1\n",
      "catalogue          2.0.10\n",
      "certifi            2024.8.30\n",
      "charset-normalizer 3.4.0\n",
      "click              8.1.7\n",
      "cloudpathlib       0.20.0\n",
      "colorama           0.4.6\n",
      "comm               0.2.2\n",
      "confection         0.1.5\n",
      "cymem              2.0.8\n",
      "debugpy            1.8.8\n",
      "decorator          5.1.1\n",
      "executing          2.1.0\n",
      "idna               3.10\n",
      "ipykernel          6.29.5\n",
      "ipython            8.29.0\n",
      "jedi               0.19.2\n",
      "Jinja2             3.1.4\n",
      "joblib             1.4.2\n",
      "jupyter_client     8.6.3\n",
      "jupyter_core       5.7.2\n",
      "langcodes          3.4.1\n",
      "language_data      1.2.0\n",
      "marisa-trie        1.2.1\n",
      "markdown-it-py     3.0.0\n",
      "MarkupSafe         3.0.2\n",
      "matplotlib-inline  0.1.7\n",
      "mdurl              0.1.2\n",
      "murmurhash         1.0.10\n",
      "nest-asyncio       1.6.0\n",
      "nltk               3.9.1\n",
      "numpy              2.0.2\n",
      "packaging          24.2\n",
      "parso              0.8.4\n",
      "pip                24.3.1\n",
      "platformdirs       4.3.6\n",
      "preshed            3.0.9\n",
      "prompt_toolkit     3.0.48\n",
      "psutil             6.1.0\n",
      "pure_eval          0.2.3\n",
      "pydantic           2.9.2\n",
      "pydantic_core      2.23.4\n",
      "Pygments           2.18.0\n",
      "python-dateutil    2.9.0.post0\n",
      "pywin32            308\n",
      "pyzmq              26.2.0\n",
      "regex              2024.11.6\n",
      "requests           2.32.3\n",
      "rich               13.9.4\n",
      "setuptools         75.3.0\n",
      "shellingham        1.5.4\n",
      "six                1.16.0\n",
      "smart-open         7.0.5\n",
      "spacy              3.8.2\n",
      "spacy-legacy       3.0.12\n",
      "spacy-loggers      1.0.5\n",
      "spacytextblob      5.0.0\n",
      "srsly              2.4.8\n",
      "stack-data         0.6.3\n",
      "textblob           0.18.0.post0\n",
      "thinc              8.3.2\n",
      "tornado            6.4.1\n",
      "tqdm               4.67.0\n",
      "traitlets          5.14.3\n",
      "typer              0.13.0\n",
      "typing_extensions  4.12.2\n",
      "urllib3            2.2.3\n",
      "wasabi             1.1.3\n",
      "wcwidth            0.2.13\n",
      "weasel             0.4.1\n",
      "wheel              0.45.0\n",
      "wrapt              1.16.0\n"
     ]
    }
   ],
   "source": [
    "# SANDRA RUIZ 11/14/2024   \n",
    "# Create and activate a Python virtual environment. \n",
    "# Before starting the project, try all these imports FIRST\n",
    "# Address any errors you get running this code cell \n",
    "# by installing the necessary packages into your active Python environment.\n",
    "# Try to resolve issues using your materials and the web.\n",
    "# If that doesn't work, ask for help in the discussion forums.\n",
    "# You can't complete the exercises until you import these - start early! \n",
    "# We also import json and pickle (included in the Python Standard Library).\n",
    "\n",
    "import json\n",
    "import pickle\n",
    "\n",
    "import requests\n",
    "import spacy\n",
    "from spacytextblob.spacytextblob import SpacyTextBlob\n",
    "\n",
    "print('All prereqs installed.')\n",
    "!pip list"
   ]
  },
  {
   "cell_type": "markdown",
   "metadata": {},
   "source": [
    "Question 1.The following code accesses the [lyrics.ovh](https://lyricsovh.docs.apiary.io/#reference/0/lyrics-of-a-song/search) public api, searches for the lyrics of a song, and stores it in a dictionary object.  Write the resulting json to a file (either a JSON file or a pickle file; you choose). You will read in the contents of this file for future questions so we do not need to frequently access the API."
   ]
  },
  {
   "cell_type": "code",
   "execution_count": 4,
   "metadata": {},
   "outputs": [],
   "source": [
    "import requests\n",
    "import json\n",
    "\n",
    "result = json.loads(requests.get('https://api.lyrics.ovh/v1/They Might Be Giants/Birdhouse in your soul').text)\n"
   ]
  },
  {
   "cell_type": "code",
   "execution_count": 4,
   "metadata": {},
   "outputs": [
    {
     "name": "stdout",
     "output_type": "stream",
     "text": [
      "Data saved to new_file_lyrics.json\n"
     ]
    }
   ],
   "source": [
    "## Quesiton 1 Answer:\n",
    "\n",
    "import requests\n",
    "import json\n",
    "import os\n",
    "\n",
    "result = json.loads(requests.get('https://api.lyrics.ovh/v1/They Might Be Giants/Birdhouse in your soul').text)\n",
    "\n",
    "\n",
    "def save_url_to_json(url, filename):\n",
    "    # Make a request to the URL and get the response\n",
    "    response = requests.get(url)\n",
    "    # Check if the response is valid (status code 200)\n",
    "    if response.status_code == 200:\n",
    "        # Parse the response as JSON\n",
    "        data = response.json()\n",
    "        # Write the data to a new JSON file\n",
    "        with open(filename, 'w') as json_file:\n",
    "            json.dump(data, json_file)\n",
    "        print(f\"Data saved to {filename}\")\n",
    "    else:\n",
    "        print(f\"Failed to retrieve data. Status code: {response.status_code}\")\n",
    "\n",
    "# Example usage\n",
    "url = 'https://api.lyrics.ovh/v1/They Might Be Giants/Birdhouse in your soul'\n",
    "filename = 'new_file_lyrics.json'\n",
    "\n",
    "save_url_to_json(url, filename)\n",
    "\n",
    "\n"
   ]
  },
  {
   "cell_type": "markdown",
   "metadata": {},
   "source": [
    "result from save to file:\n",
    " {\"lyrics\": \"I'm your only friend \\nI'm not your only friend \\nBut I'm a little glowing friend \\nBut really I'm not actually your friend \\nBut I am \\n\\n\\nBlue canary in the outlet by the light switch \\n\\nWho watches over you \\n\\nMake a little birdhouse in your soul \\n\\nNot to put too fine a point on it \\n\\nSay I'm the only bee in your bonnet \\n\\nMake a little birdhouse in your soul \\n\\n\\n\\nI have a secret to tell \\n\\nFrom my electrical well \\n\\nIt's a simple message and I'm leaving out the whistles and bells \\n\\nSo the room must listen to me \\n\\nFilibuster vigilantly \\n\\nMy name is blue canary one note* spelled l-i-t-e \\n\\nMy story's infinite \\n\\nLike the Longines Symphonette it doesn't rest \\n\\n\\n\\nBlue canary in the outlet by the light switch \\n\\nWho watches over you \\n\\nMake a little birdhouse in your soul \\n\\nNot to put too fine a point on it \\n\\nSay I'm the only bee in your bonnet \\n\\nMake a little birdhouse in your soul \\n\\n\\n\\nI'm your only friend \\n\\nI'm not your only friend \\n\\nBut I'm a little glowing friend \\n\\nBut really I'm not actually your friend \\n\\nBut I am \\n\\n\\n\\nThere's a picture opposite me \\n\\nOf my primitive ancestry \\n\\nWhich stood on rocky shores and kept the beaches shipwreck free \\n\\nThough I respect that a lot \\n\\nI'd be fired if that were my job \\n\\nAfter killing Jason off and countless screaming Argonauts \\n\\nBluebird of friendliness \\n\\nLike guardian angels its always near \\n\\n\\n\\nBlue canary in the outlet by the light switch \\n\\nWho watches over you \\n\\nMake a little birdhouse in your soul \\n\\nNot to put too fine a point on it \\n\\nSay I'm the only bee in your bonnet \\n\\nMake a little birdhouse in your soul \\n\\n\\n\\n(and while you're at it \\n\\nKeep the nightlight on inside the \\n\\nBirdhouse in your soul) \\n\\n\\n\\nNot to put too fine a point on it \\n\\nSay I'm the only bee in your bonnet \\n\\nMake a little birdhouse in your soul \\n\\n\\n\\nBlue canary in the outlet by the light switch (and while you're at it) \\n\\nWho watches over you (keep the nightlight on inside the) \\n\\nMake a little birdhouse in your soul (birdhouse in your soul) \\n\\n\\n\\nNot to put too fine a point on it \\n\\nSay I'm the only bee in your bonnet \\n\\nMake a little birdhouse in your soul \\n\\n\\n\\nBlue canary in the outlet by the light switch (and while you're at it) \\n\\nWho watches over you (keep the nightlight on inside the) \\n\\nMake a little birdhouse in your soul (birdhouse in your soul) \\n\\n\\n\\nNot to put too fine a point on it \\n\\nSay I'm the only bee in your bonnet \\n\\nMake a little birdhouse in your soul\"}\n"
   ]
  },
  {
   "cell_type": "markdown",
   "metadata": {},
   "source": [
    "Question 2. Read in the contents of your file.  Print the lyrics of the song (not the entire dictionary!) and use spaCyTextBlob to perform sentiment analysis on the lyrics.  Print the polarity score of the sentiment analysis.  Given that the range of the polarity score is `[-1.0,1.0]` which corresponds to how positive or negative the text in question is, do you think the lyrics have a more positive or negative connotaion?  Answer this question in a comment in your code cell."
   ]
  },
  {
   "cell_type": "code",
   "execution_count": 31,
   "metadata": {},
   "outputs": [
    {
     "name": "stdout",
     "output_type": "stream",
     "text": [
      "Model loaded successfully!\n",
      "First 5 lines of lyrics:\n",
      "I'm your only friend \n",
      "I'm not your only friend \n",
      "But I'm a little glowing friend \n",
      "But really I'm not actually your friend \n",
      "But I am \n",
      "\n",
      "Polarity Score: 0.04505208333333333\n",
      "The lyrics have a positive connotation.\n"
     ]
    }
   ],
   "source": [
    "import json\n",
    "import spacy\n",
    "from spacytextblob.spacytextblob import SpacyTextBlob\n",
    "\n",
    "# Load the spaCy model and add the SpacyTextBlob component\n",
    "try:\n",
    "    nlp = spacy.load(\"en_core_web_sm\")\n",
    "    nlp.add_pipe(\"spacytextblob\")  \n",
    "    print(\"Model loaded successfully!\")\n",
    "except OSError as e:\n",
    "    print(\"Error loading model:\", e)\n",
    "\n",
    "# to read the lyrics from JSON file\n",
    "def read_lyrics(filename):\n",
    "    with open(filename, 'r') as json_file:\n",
    "        data = json.load(json_file)\n",
    "    lyrics = data.get(\"lyrics\", \"\")\n",
    "    return lyrics\n",
    "\n",
    "# Function to analyze sentiment of the lyrics\n",
    "def analyze_sentiment(text):\n",
    "    doc = nlp(text)\n",
    "    polarity = doc._.blob.polarity  \n",
    "    return polarity\n",
    "\n",
    "# File Path\n",
    "filename = r'C:\\Users\\19564\\Documents\\P2.Ruiz\\Project4.Ruiz\\Json.NLP.4\\new_file_lyrics.json'  \n",
    "\n",
    "# Read the lyrics from the JSON file\n",
    "lyrics = read_lyrics(filename)\n",
    "\n",
    "# Print the first 5 lines of the lyrics\n",
    "lyrics_lines = lyrics.split(\"\\n\")  \n",
    "print(\"First 5 lines of lyrics:\")\n",
    "print(\"\\n\".join(lyrics_lines[:5])) \n",
    "\n",
    "# Perform sentiment analysis\n",
    "polarity_score = analyze_sentiment(lyrics)\n",
    "print(\"\\nPolarity Score:\", polarity_score)\n",
    "\n",
    "# Interpret the polarity score\n",
    "if polarity_score > 0:\n",
    "    print(\"The lyrics have a positive connotation.\")\n",
    "elif polarity_score < 0:\n",
    "    print(\"The lyrics have a negative connotation.\")\n",
    "else:\n",
    "    print(\"The lyrics are neutral in connotation.\")\n",
    "\n",
    "    ## Answer polarity question: The polarity result was 0.45020833333 printed on the output below. Based on scale of -1,0,1.0 the polarity\n",
    "    ## is slgithly past zero so the lyrics are considered a positive connotation. \n",
    "\n",
    "\n",
    "\n"
   ]
  },
  {
   "cell_type": "code",
   "execution_count": 25,
   "metadata": {},
   "outputs": [
    {
     "ename": "ImportError",
     "evalue": "cannot import name 'get_data_path' from 'spacy.util' (c:\\Users\\19564\\Documents\\P2.Ruiz\\Project4.Ruiz\\env\\Lib\\site-packages\\spacy\\util.py)",
     "output_type": "error",
     "traceback": [
      "\u001b[1;31m---------------------------------------------------------------------------\u001b[0m",
      "\u001b[1;31mImportError\u001b[0m                               Traceback (most recent call last)",
      "Cell \u001b[1;32mIn[25], line 6\u001b[0m\n\u001b[0;32m      1\u001b[0m \u001b[38;5;28;01mimport\u001b[39;00m \u001b[38;5;21;01mspacy\u001b[39;00m\n\u001b[0;32m      5\u001b[0m \u001b[38;5;28;01mimport\u001b[39;00m \u001b[38;5;21;01mspacy\u001b[39;00m\n\u001b[1;32m----> 6\u001b[0m \u001b[38;5;28;01mfrom\u001b[39;00m \u001b[38;5;21;01mspacy\u001b[39;00m\u001b[38;5;21;01m.\u001b[39;00m\u001b[38;5;21;01mutil\u001b[39;00m \u001b[38;5;28;01mimport\u001b[39;00m get_data_path\n\u001b[0;32m      8\u001b[0m \u001b[38;5;28mprint\u001b[39m(get_data_path())\n",
      "\u001b[1;31mImportError\u001b[0m: cannot import name 'get_data_path' from 'spacy.util' (c:\\Users\\19564\\Documents\\P2.Ruiz\\Project4.Ruiz\\env\\Lib\\site-packages\\spacy\\util.py)"
     ]
    }
   ],
   "source": [
    "import spacy\n",
    "\n",
    "\n",
    "\n",
    "import spacy\n",
    "from spacy.util import get_data_path\n",
    "\n",
    "print(get_data_path())\n"
   ]
  },
  {
   "cell_type": "markdown",
   "metadata": {},
   "source": [
    "3. Write a function that takes an artist, song, and filename, accesses the lyrics.ovh api to get the song lyrics, and writes the results to the specified filename.  Test this function by getting the lyrics to any four songs of your choice and storing them in different files."
   ]
  },
  {
   "cell_type": "code",
   "execution_count": null,
   "metadata": {},
   "outputs": [],
   "source": []
  },
  {
   "cell_type": "markdown",
   "metadata": {},
   "source": [
    "4. Write a function that takes the name of a file that contains song lyrics, loads the file, performs sentiment analysis, and returns the polarity score.  Use this function to print the polarity scores (with the name of the song) of the three files you created in question 3.  Does the reported polarity match your understanding of the song's lyrics? Why or why not do you think that might be?  Answer the questions in either a comment in the code cell or a markdown cell under the code cell."
   ]
  },
  {
   "cell_type": "code",
   "execution_count": null,
   "metadata": {},
   "outputs": [],
   "source": []
  }
 ],
 "metadata": {
  "kernelspec": {
   "display_name": "env",
   "language": "python",
   "name": "python3"
  },
  "language_info": {
   "codemirror_mode": {
    "name": "ipython",
    "version": 3
   },
   "file_extension": ".py",
   "mimetype": "text/x-python",
   "name": "python",
   "nbconvert_exporter": "python",
   "pygments_lexer": "ipython3",
   "version": "3.12.2"
  }
 },
 "nbformat": 4,
 "nbformat_minor": 4
}
